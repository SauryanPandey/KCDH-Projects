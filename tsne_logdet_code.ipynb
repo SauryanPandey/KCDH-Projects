{
  "metadata": {
    "kernelspec": {
      "language": "python",
      "display_name": "Python 3",
      "name": "python3"
    },
    "language_info": {
      "pygments_lexer": "ipython3",
      "nbconvert_exporter": "python",
      "version": "3.6.4",
      "file_extension": ".py",
      "codemirror_mode": {
        "name": "ipython",
        "version": 3
      },
      "name": "python",
      "mimetype": "text/x-python"
    },
    "colab": {
      "provenance": [],
      "include_colab_link": true
    }
  },
  "nbformat_minor": 0,
  "nbformat": 4,
  "cells": [
    {
      "cell_type": "markdown",
      "metadata": {
        "id": "view-in-github",
        "colab_type": "text"
      },
      "source": [
        "<a href=\"https://colab.research.google.com/github/SauryanPandey/KCDH-Projects/blob/main/tsne_logdet_code.ipynb\" target=\"_parent\"><img src=\"https://colab.research.google.com/assets/colab-badge.svg\" alt=\"Open In Colab\"/></a>"
      ]
    },
    {
      "cell_type": "code",
      "source": [
        "SKLEARN_ALLOW_DEPRECATED_SKLEARN_PACKAGE_INSTALL=True"
      ],
      "metadata": {
        "papermill": {
          "duration": 0.025027,
          "end_time": "2023-08-05T06:16:56.595692",
          "exception": false,
          "start_time": "2023-08-05T06:16:56.570665",
          "status": "completed"
        },
        "tags": [],
        "execution": {
          "iopub.status.busy": "2023-08-20T09:45:09.995146Z",
          "iopub.execute_input": "2023-08-20T09:45:09.995497Z",
          "iopub.status.idle": "2023-08-20T09:45:10.008963Z",
          "shell.execute_reply.started": "2023-08-20T09:45:09.995466Z",
          "shell.execute_reply": "2023-08-20T09:45:10.007744Z"
        },
        "trusted": true,
        "id": "Ixi4kdec2NM0"
      },
      "execution_count": null,
      "outputs": []
    },
    {
      "cell_type": "code",
      "source": [
        "!pip install -i https://test.pypi.org/simple/ --extra-index-url https://pypi.org/simple/ submodlib"
      ],
      "metadata": {
        "papermill": {
          "duration": 281.005027,
          "end_time": "2023-08-05T06:21:37.608883",
          "exception": false,
          "start_time": "2023-08-05T06:16:56.603856",
          "status": "completed"
        },
        "tags": [],
        "execution": {
          "iopub.status.busy": "2023-08-20T09:45:10.298911Z",
          "iopub.execute_input": "2023-08-20T09:45:10.299275Z",
          "iopub.status.idle": "2023-08-20T09:49:56.978617Z",
          "shell.execute_reply.started": "2023-08-20T09:45:10.299247Z",
          "shell.execute_reply": "2023-08-20T09:49:56.977347Z"
        },
        "trusted": true,
        "id": "oMqIAeio2NM1"
      },
      "execution_count": null,
      "outputs": []
    },
    {
      "cell_type": "code",
      "source": [
        "import torch\n",
        "from torch import nn\n",
        "import torchvision.models as models\n",
        "import torchvision.transforms as transforms\n",
        "from PIL import Image\n",
        "from sklearn.manifold import TSNE\n",
        "import matplotlib.pyplot as plt\n",
        "import seaborn as sns\n",
        "import numpy as np\n",
        "import math\n",
        "from torch.utils.data import DataLoader, TensorDataset\n",
        "from sklearn.model_selection import train_test_split"
      ],
      "metadata": {
        "papermill": {
          "duration": 6.158914,
          "end_time": "2023-08-05T06:21:43.786510",
          "exception": false,
          "start_time": "2023-08-05T06:21:37.627596",
          "status": "completed"
        },
        "tags": [],
        "execution": {
          "iopub.status.busy": "2023-08-21T13:19:25.482116Z",
          "iopub.execute_input": "2023-08-21T13:19:25.482555Z",
          "iopub.status.idle": "2023-08-21T13:19:32.875463Z",
          "shell.execute_reply.started": "2023-08-21T13:19:25.482519Z",
          "shell.execute_reply": "2023-08-21T13:19:32.874404Z"
        },
        "trusted": true,
        "id": "zwE7OlYg2NM1"
      },
      "execution_count": null,
      "outputs": []
    },
    {
      "cell_type": "code",
      "source": [
        "device = (\n",
        "    \"cuda\"\n",
        "    if torch.cuda.is_available()\n",
        "    else \"mps\"\n",
        "    if torch.backends.mps.is_available()\n",
        "    else \"cpu\"\n",
        ")\n",
        "print(f\"Using {device} device\")"
      ],
      "metadata": {
        "papermill": {
          "duration": 0.137737,
          "end_time": "2023-08-05T06:21:43.941290",
          "exception": false,
          "start_time": "2023-08-05T06:21:43.803553",
          "status": "completed"
        },
        "tags": [],
        "execution": {
          "iopub.status.busy": "2023-08-20T11:02:42.531764Z",
          "iopub.execute_input": "2023-08-20T11:02:42.532144Z",
          "iopub.status.idle": "2023-08-20T11:02:42.540190Z",
          "shell.execute_reply.started": "2023-08-20T11:02:42.532112Z",
          "shell.execute_reply": "2023-08-20T11:02:42.539269Z"
        },
        "trusted": true,
        "id": "sdAXHzP22NM1"
      },
      "execution_count": null,
      "outputs": []
    },
    {
      "cell_type": "code",
      "source": [
        "image_path = \"/kaggle/input/pneumoniamnistdata/train_images (PneumonialMNIST).npy\"            #Replace this with any dataset\n",
        "label_path = \"/kaggle/input/pneumoniamnistdata/train_labels (PneumonialMNIST).npy\"\n",
        "y = np.load(label_path)\n",
        "y = torch.from_numpy(y).to(device)\n",
        "print(y.shape)"
      ],
      "metadata": {
        "papermill": {
          "duration": 3.284385,
          "end_time": "2023-08-05T06:21:47.243123",
          "exception": false,
          "start_time": "2023-08-05T06:21:43.958738",
          "status": "completed"
        },
        "tags": [],
        "execution": {
          "iopub.status.busy": "2023-08-20T11:02:43.291034Z",
          "iopub.execute_input": "2023-08-20T11:02:43.292178Z",
          "iopub.status.idle": "2023-08-20T11:02:43.315443Z",
          "shell.execute_reply.started": "2023-08-20T11:02:43.292135Z",
          "shell.execute_reply": "2023-08-20T11:02:43.314355Z"
        },
        "trusted": true,
        "id": "rUjPQz3k2NM1"
      },
      "execution_count": null,
      "outputs": []
    },
    {
      "cell_type": "code",
      "source": [
        "x = np.load(image_path)\n",
        "x = np.transpose(x, (0, 3, 1, 2))\n",
        "x = torch.from_numpy(x).to(device)\n",
        "print(x.shape)"
      ],
      "metadata": {
        "papermill": {
          "duration": 3.645435,
          "end_time": "2023-08-05T06:21:50.914537",
          "exception": false,
          "start_time": "2023-08-05T06:21:47.269102",
          "status": "completed"
        },
        "tags": [],
        "execution": {
          "iopub.status.busy": "2023-08-20T11:02:44.236552Z",
          "iopub.execute_input": "2023-08-20T11:02:44.237294Z",
          "iopub.status.idle": "2023-08-20T11:02:44.469030Z",
          "shell.execute_reply.started": "2023-08-20T11:02:44.237242Z",
          "shell.execute_reply": "2023-08-20T11:02:44.467861Z"
        },
        "trusted": true,
        "id": "Jrlj-v9e2NM2"
      },
      "execution_count": null,
      "outputs": []
    },
    {
      "cell_type": "code",
      "source": [
        "x_train, x_test, y_train, y_test = train_test_split(x, y, test_size=0.3, random_state=1)\n",
        "\n",
        "train_dataset = TensorDataset(x_train, y_train)\n",
        "test_dataset = TensorDataset(x_test, y_test)\n",
        "\n",
        "batch_size = 8\n",
        "train_loader = DataLoader(train_dataset, batch_size=batch_size, shuffle=True)\n",
        "test_loader = DataLoader(test_dataset, batch_size=batch_size, shuffle=False)"
      ],
      "metadata": {
        "papermill": {
          "duration": 0.049916,
          "end_time": "2023-08-05T06:21:50.982158",
          "exception": false,
          "start_time": "2023-08-05T06:21:50.932242",
          "status": "completed"
        },
        "tags": [],
        "execution": {
          "iopub.status.busy": "2023-08-20T11:02:50.207742Z",
          "iopub.execute_input": "2023-08-20T11:02:50.208973Z",
          "iopub.status.idle": "2023-08-20T11:02:50.234585Z",
          "shell.execute_reply.started": "2023-08-20T11:02:50.208932Z",
          "shell.execute_reply": "2023-08-20T11:02:50.233614Z"
        },
        "trusted": true,
        "id": "lyx3qYpY2NM2"
      },
      "execution_count": null,
      "outputs": []
    },
    {
      "cell_type": "code",
      "source": [
        "for data in train_loader:\n",
        "    print(data)\n",
        "    break"
      ],
      "metadata": {
        "papermill": {
          "duration": 0.146315,
          "end_time": "2023-08-05T06:21:51.146645",
          "exception": false,
          "start_time": "2023-08-05T06:21:51.000330",
          "status": "completed"
        },
        "tags": [],
        "execution": {
          "iopub.status.busy": "2023-08-20T11:02:51.274449Z",
          "iopub.execute_input": "2023-08-20T11:02:51.274899Z",
          "iopub.status.idle": "2023-08-20T11:02:51.307942Z",
          "shell.execute_reply.started": "2023-08-20T11:02:51.274864Z",
          "shell.execute_reply": "2023-08-20T11:02:51.306867Z"
        },
        "trusted": true,
        "id": "1sAMMNFz2NM2"
      },
      "execution_count": null,
      "outputs": []
    },
    {
      "cell_type": "code",
      "source": [
        "from torchvision.models.resnet import ResNet18_Weights\n",
        "resnet = models.resnet18(weights=ResNet18_Weights.DEFAULT)\n",
        "resnet = torch.nn.Sequential(*list(resnet.children())[:-1])\n",
        "resnet = resnet.to(device)"
      ],
      "metadata": {
        "papermill": {
          "duration": 0.668248,
          "end_time": "2023-08-05T06:21:51.832112",
          "exception": false,
          "start_time": "2023-08-05T06:21:51.163864",
          "status": "completed"
        },
        "tags": [],
        "execution": {
          "iopub.status.busy": "2023-08-20T11:02:54.591048Z",
          "iopub.execute_input": "2023-08-20T11:02:54.591874Z",
          "iopub.status.idle": "2023-08-20T11:02:54.814721Z",
          "shell.execute_reply.started": "2023-08-20T11:02:54.591838Z",
          "shell.execute_reply": "2023-08-20T11:02:54.813600Z"
        },
        "trusted": true,
        "id": "5ZhnMTIi2NM2"
      },
      "execution_count": null,
      "outputs": []
    },
    {
      "cell_type": "code",
      "source": [
        "def extract_features(images):\n",
        "    features = []\n",
        "    for batch in images:\n",
        "        with torch.no_grad():\n",
        "            batch = batch[0].to(device)\n",
        "\n",
        "            if batch.dtype == torch.uint8:   # Convert the input tensor to torch.cuda.FloatTensor if it's of type torch.cuda.ByteTensor\n",
        "                batch = batch.float()\n",
        "\n",
        "            features_batch = resnet(batch)\n",
        "            features_batch = features_batch.view(features_batch.size(0), -1)\n",
        "            features.append(features_batch)\n",
        "\n",
        "    features = torch.cat(features, dim=0)\n",
        "    return features"
      ],
      "metadata": {
        "papermill": {
          "duration": 0.032398,
          "end_time": "2023-08-05T06:21:51.882918",
          "exception": false,
          "start_time": "2023-08-05T06:21:51.850520",
          "status": "completed"
        },
        "tags": [],
        "execution": {
          "iopub.status.busy": "2023-08-20T11:02:55.502647Z",
          "iopub.execute_input": "2023-08-20T11:02:55.503571Z",
          "iopub.status.idle": "2023-08-20T11:02:55.510937Z",
          "shell.execute_reply.started": "2023-08-20T11:02:55.503519Z",
          "shell.execute_reply": "2023-08-20T11:02:55.509705Z"
        },
        "trusted": true,
        "id": "Rd-61DJb2NM2"
      },
      "execution_count": null,
      "outputs": []
    },
    {
      "cell_type": "code",
      "source": [
        "x_train_features = extract_features(train_loader)\n",
        "print(x_train_features.shape)"
      ],
      "metadata": {
        "papermill": {
          "duration": 6.642526,
          "end_time": "2023-08-05T06:21:58.543785",
          "exception": false,
          "start_time": "2023-08-05T06:21:51.901259",
          "status": "completed"
        },
        "tags": [],
        "execution": {
          "iopub.status.busy": "2023-08-20T11:02:55.912071Z",
          "iopub.execute_input": "2023-08-20T11:02:55.912432Z",
          "iopub.status.idle": "2023-08-20T11:02:58.226008Z",
          "shell.execute_reply.started": "2023-08-20T11:02:55.912402Z",
          "shell.execute_reply": "2023-08-20T11:02:58.224954Z"
        },
        "trusted": true,
        "id": "D7R7Kold2NM3"
      },
      "execution_count": null,
      "outputs": []
    },
    {
      "cell_type": "code",
      "source": [
        "num = x_train_features.shape[0] - int(0.7*x_train_features.shape[0])\n",
        "random_points = []\n",
        "i = 0\n",
        "while (i < num):\n",
        "    random_number = np.random.randint(0, x_train_features.shape[0])\n",
        "    if(random_number not in random_points):\n",
        "        random_points.append(random_number)\n",
        "        i += 1\n",
        "print(random_points)"
      ],
      "metadata": {
        "papermill": {
          "duration": 0.038923,
          "end_time": "2023-08-05T06:21:58.601047",
          "exception": false,
          "start_time": "2023-08-05T06:21:58.562124",
          "status": "completed"
        },
        "tags": [],
        "execution": {
          "iopub.status.busy": "2023-08-20T11:03:00.104162Z",
          "iopub.execute_input": "2023-08-20T11:03:00.104903Z",
          "iopub.status.idle": "2023-08-20T11:03:00.120081Z",
          "shell.execute_reply.started": "2023-08-20T11:03:00.104868Z",
          "shell.execute_reply": "2023-08-20T11:03:00.118963Z"
        },
        "trusted": true,
        "id": "mbHrjkzQ2NM3"
      },
      "execution_count": null,
      "outputs": []
    },
    {
      "cell_type": "code",
      "source": [
        "def points_selector(points):\n",
        "\n",
        "    points_selector = []\n",
        "    _1perc = int(0.01*x_train_features.shape[0])\n",
        "    points_selector.append(points[:_1perc])\n",
        "    _5perc = 5*_1perc\n",
        "    perc_cnt = 0\n",
        "    i = 1\n",
        "    while(perc_cnt != 30):\n",
        "        perc = i*_5perc\n",
        "        points_selector.append(points[:perc])\n",
        "        i+=1\n",
        "        perc_cnt+=5\n",
        "\n",
        "    return points_selector"
      ],
      "metadata": {
        "papermill": {
          "duration": 0.027322,
          "end_time": "2023-08-05T06:21:58.646564",
          "exception": false,
          "start_time": "2023-08-05T06:21:58.619242",
          "status": "completed"
        },
        "tags": [],
        "execution": {
          "iopub.status.busy": "2023-08-20T11:03:03.056445Z",
          "iopub.execute_input": "2023-08-20T11:03:03.056832Z",
          "iopub.status.idle": "2023-08-20T11:03:03.064943Z",
          "shell.execute_reply.started": "2023-08-20T11:03:03.056799Z",
          "shell.execute_reply": "2023-08-20T11:03:03.063700Z"
        },
        "trusted": true,
        "id": "E7s5Hv462NM3"
      },
      "execution_count": null,
      "outputs": []
    },
    {
      "cell_type": "code",
      "source": [
        "random_points_selector = points_selector(random_points)\n",
        "len(random_points_selector)"
      ],
      "metadata": {
        "papermill": {
          "duration": 0.027428,
          "end_time": "2023-08-05T06:21:58.692031",
          "exception": false,
          "start_time": "2023-08-05T06:21:58.664603",
          "status": "completed"
        },
        "tags": [],
        "execution": {
          "iopub.status.busy": "2023-08-20T11:03:03.604487Z",
          "iopub.execute_input": "2023-08-20T11:03:03.605490Z",
          "iopub.status.idle": "2023-08-20T11:03:03.613507Z",
          "shell.execute_reply.started": "2023-08-20T11:03:03.605452Z",
          "shell.execute_reply": "2023-08-20T11:03:03.612396Z"
        },
        "trusted": true,
        "id": "CkAmfSC42NM3"
      },
      "execution_count": null,
      "outputs": []
    },
    {
      "cell_type": "code",
      "source": [
        "from submodlib import LogDeterminantFunction\n",
        "\n",
        "lambda_val = 1.0\n",
        "num_desired_datapoints = num\n",
        "\n",
        "objLogDet = LogDeterminantFunction(n=x_train_features.shape[0], data=x_train_features.cpu().numpy(), mode=\"dense\",\n",
        "                                     metric=\"euclidean\", lambdaVal=lambda_val)\n",
        "\n",
        "greedyList = objLogDet.maximize(budget=num_desired_datapoints, optimizer='NaiveGreedy', stopIfZeroGain=False, stopIfNegativeGain=False, verbose=False)\n",
        "\n",
        "selected_points = []\n",
        "for i in range(len(greedyList)):\n",
        "    selected_points.append(greedyList[i][0])\n",
        "\n",
        "print(selected_points)"
      ],
      "metadata": {
        "papermill": {
          "duration": 2.900044,
          "end_time": "2023-08-05T06:22:01.609845",
          "exception": false,
          "start_time": "2023-08-05T06:21:58.709801",
          "status": "completed"
        },
        "tags": [],
        "execution": {
          "iopub.status.busy": "2023-08-20T11:03:05.098704Z",
          "iopub.execute_input": "2023-08-20T11:03:05.099083Z",
          "iopub.status.idle": "2023-08-20T11:03:29.066149Z",
          "shell.execute_reply.started": "2023-08-20T11:03:05.099052Z",
          "shell.execute_reply": "2023-08-20T11:03:29.064217Z"
        },
        "trusted": true,
        "id": "YoyyXUXV2NM3"
      },
      "execution_count": null,
      "outputs": []
    },
    {
      "cell_type": "code",
      "source": [
        "selected_points_selector = points_selector(selected_points)"
      ],
      "metadata": {
        "papermill": {
          "duration": 0.027623,
          "end_time": "2023-08-05T06:22:01.656591",
          "exception": false,
          "start_time": "2023-08-05T06:22:01.628968",
          "status": "completed"
        },
        "tags": [],
        "execution": {
          "iopub.status.busy": "2023-08-20T11:03:33.692523Z",
          "iopub.execute_input": "2023-08-20T11:03:33.693680Z",
          "iopub.status.idle": "2023-08-20T11:03:33.698462Z",
          "shell.execute_reply.started": "2023-08-20T11:03:33.693621Z",
          "shell.execute_reply": "2023-08-20T11:03:33.697350Z"
        },
        "trusted": true,
        "id": "V_1NkVdV2NM3"
      },
      "execution_count": null,
      "outputs": []
    },
    {
      "cell_type": "code",
      "source": [
        "tsne = TSNE(n_components=2, random_state=12, n_iter=2500)\n",
        "x_train_tsne = tsne.fit_transform(x_train_features.cpu().numpy())\n",
        "print(x_train_tsne.shape)\n",
        "\n",
        "plt.scatter(x_train_tsne[:, 0], x_train_tsne[:, 1], c=y_train.cpu().numpy())\n",
        "plt.title(\"t-SNE Visualization (Pneumonia MNIST Dataset)\")\n",
        "plt.xlabel(\"Dimension 1\")\n",
        "plt.ylabel(\"Dimension 2\")\n",
        "plt.show()"
      ],
      "metadata": {
        "papermill": {
          "duration": 8.668694,
          "end_time": "2023-08-05T06:22:10.344135",
          "exception": false,
          "start_time": "2023-08-05T06:22:01.675441",
          "status": "completed"
        },
        "tags": [],
        "execution": {
          "iopub.status.busy": "2023-08-20T11:03:45.997202Z",
          "iopub.execute_input": "2023-08-20T11:03:45.997585Z",
          "iopub.status.idle": "2023-08-20T11:04:21.917522Z",
          "shell.execute_reply.started": "2023-08-20T11:03:45.997546Z",
          "shell.execute_reply": "2023-08-20T11:04:21.916555Z"
        },
        "trusted": true,
        "id": "N-1ZW30Q2NM3"
      },
      "execution_count": null,
      "outputs": []
    },
    {
      "cell_type": "code",
      "source": [
        "print(x_train_tsne)"
      ],
      "metadata": {
        "papermill": {
          "duration": 0.030067,
          "end_time": "2023-08-05T06:22:10.394675",
          "exception": false,
          "start_time": "2023-08-05T06:22:10.364608",
          "status": "completed"
        },
        "tags": [],
        "execution": {
          "iopub.status.busy": "2023-08-20T11:04:27.571461Z",
          "iopub.execute_input": "2023-08-20T11:04:27.572193Z",
          "iopub.status.idle": "2023-08-20T11:04:27.578679Z",
          "shell.execute_reply.started": "2023-08-20T11:04:27.572157Z",
          "shell.execute_reply": "2023-08-20T11:04:27.577372Z"
        },
        "trusted": true,
        "id": "YFVk_-Rr2NM3"
      },
      "execution_count": null,
      "outputs": []
    },
    {
      "cell_type": "code",
      "source": [
        "objLogDet_tsne = LogDeterminantFunction(n=x_train_features.shape[0], data=x_train_tsne, mode=\"dense\",\n",
        "                                     metric=\"euclidean\", lambdaVal=lambda_val)\n",
        "\n",
        "greedyList_tsne = objLogDet_tsne.maximize(budget=num_desired_datapoints, optimizer='NaiveGreedy', stopIfZeroGain=False, stopIfNegativeGain=False, verbose=False)\n",
        "\n",
        "tsne_selected_points = []\n",
        "for i in range(len(greedyList_tsne)):\n",
        "    tsne_selected_points.append(greedyList_tsne[i][0])\n",
        "\n",
        "print(tsne_selected_points)"
      ],
      "metadata": {
        "papermill": {
          "duration": 2.056699,
          "end_time": "2023-08-05T06:22:12.474666",
          "exception": false,
          "start_time": "2023-08-05T06:22:10.417967",
          "status": "completed"
        },
        "tags": [],
        "execution": {
          "iopub.status.busy": "2023-08-20T11:04:30.490934Z",
          "iopub.execute_input": "2023-08-20T11:04:30.491666Z",
          "iopub.status.idle": "2023-08-20T11:04:53.788344Z",
          "shell.execute_reply.started": "2023-08-20T11:04:30.491608Z",
          "shell.execute_reply": "2023-08-20T11:04:53.787324Z"
        },
        "trusted": true,
        "id": "6ArU3ibJ2NM4"
      },
      "execution_count": null,
      "outputs": []
    },
    {
      "cell_type": "code",
      "source": [
        "tsne_selected_points_selector = points_selector(tsne_selected_points)"
      ],
      "metadata": {
        "papermill": {
          "duration": 0.030281,
          "end_time": "2023-08-05T06:22:12.526414",
          "exception": false,
          "start_time": "2023-08-05T06:22:12.496133",
          "status": "completed"
        },
        "tags": [],
        "execution": {
          "iopub.status.busy": "2023-08-20T11:05:05.180099Z",
          "iopub.execute_input": "2023-08-20T11:05:05.180480Z",
          "iopub.status.idle": "2023-08-20T11:05:05.185376Z",
          "shell.execute_reply.started": "2023-08-20T11:05:05.180448Z",
          "shell.execute_reply": "2023-08-20T11:05:05.184327Z"
        },
        "trusted": true,
        "id": "_DhAP-iK2NM4"
      },
      "execution_count": null,
      "outputs": []
    },
    {
      "cell_type": "code",
      "source": [
        "def create_train_loader_with_imbalance(selected_data_points, x_train, y_train, batch_size=8):\n",
        "    selected_x_train = []\n",
        "    selected_y_train = []\n",
        "    cnt_0 = 0\n",
        "    cnt_1 = 0\n",
        "\n",
        "    for i in range(len(x_train)):\n",
        "        if i in selected_data_points:\n",
        "            selected_x_train.append(x_train[i])\n",
        "            selected_y_train.append(y_train[i])\n",
        "            if y_train[i] == 0:\n",
        "                cnt_0 += 1\n",
        "            else:\n",
        "                cnt_1 += 1\n",
        "\n",
        "    selected_x_train = torch.stack(selected_x_train)\n",
        "    selected_y_train = torch.tensor(selected_y_train)\n",
        "    print(selected_x_train.shape)\n",
        "\n",
        "    total = cnt_0 + cnt_1\n",
        "    print(f\"Class 0: {round((cnt_0 / total) * 100, 2)}%\\nClass 1: {round((cnt_1 / total) * 100, 2)}%\")\n",
        "\n",
        "    selected_train_dataset = TensorDataset(selected_x_train, selected_y_train)\n",
        "    selected_train_loader = DataLoader(selected_train_dataset, batch_size=batch_size, shuffle=True)\n",
        "\n",
        "    return selected_train_loader"
      ],
      "metadata": {
        "papermill": {
          "duration": 0.031697,
          "end_time": "2023-08-05T06:22:12.578468",
          "exception": false,
          "start_time": "2023-08-05T06:22:12.546771",
          "status": "completed"
        },
        "tags": [],
        "execution": {
          "iopub.status.busy": "2023-08-20T11:05:07.440367Z",
          "iopub.execute_input": "2023-08-20T11:05:07.441093Z",
          "iopub.status.idle": "2023-08-20T11:05:07.449582Z",
          "shell.execute_reply.started": "2023-08-20T11:05:07.441055Z",
          "shell.execute_reply": "2023-08-20T11:05:07.448474Z"
        },
        "trusted": true,
        "id": "1P0xeqaT2NM4"
      },
      "execution_count": null,
      "outputs": []
    },
    {
      "cell_type": "code",
      "source": [
        "class HighlightTSNETrainer:\n",
        "    def __init__(self, num_epochs=300, batch_size=8, lr=0.001, weight_decay=0.1):\n",
        "        self.num_epochs = num_epochs\n",
        "        self.batch_size = batch_size\n",
        "        self.lr = lr\n",
        "        self.weight_decay = weight_decay\n",
        "        self.device = torch.device('cuda' if torch.cuda.is_available() else 'cpu')\n",
        "        self.resnet = models.resnet18(weights=ResNet18_Weights.DEFAULT)\n",
        "        self.num_input_features = self.resnet.fc.in_features\n",
        "        self.fc_removed_resnet = self._remove_final_fc_layer()\n",
        "        self.pytorch_classifier = self._build_classifier()\n",
        "        self.loss_fn = nn.CrossEntropyLoss()\n",
        "        self.optimizer = torch.optim.Adam(self.pytorch_classifier.parameters(), lr=self.lr, weight_decay=self.weight_decay)\n",
        "\n",
        "    def _remove_final_fc_layer(self):\n",
        "        fc_removed_resnet = nn.Sequential(*list(self.resnet.children())[:-1])\n",
        "        return fc_removed_resnet.to(self.device)\n",
        "\n",
        "    def _build_classifier(self):\n",
        "        for param in self.fc_removed_resnet.parameters():\n",
        "            param.requires_grad = False\n",
        "        classifier = nn.Sequential(\n",
        "            nn.Linear(self.num_input_features, 512),\n",
        "            nn.ReLU(inplace=True),\n",
        "            nn.Linear(512, 256),\n",
        "            nn.ReLU(inplace=True),\n",
        "            nn.Linear(256, 128),\n",
        "            nn.ReLU(inplace=True),\n",
        "            nn.Linear(128, 2)\n",
        "        )\n",
        "        return classifier.to(self.device)\n",
        "\n",
        "    def train(self, dataloader):\n",
        "        self.pytorch_classifier.train()\n",
        "        for epoch in range(self.num_epochs):\n",
        "            for inputs, labels in dataloader:\n",
        "                inputs, labels = inputs.to(self.device), labels.to(self.device)\n",
        "                self.optimizer.zero_grad()\n",
        "\n",
        "                # Convert inputs to float32 if they are of type ByteTensor\n",
        "                if inputs.dtype == torch.uint8:\n",
        "                    inputs = inputs.float()\n",
        "\n",
        "                with torch.no_grad():\n",
        "                    features = self.fc_removed_resnet(inputs)\n",
        "                outputs = self.pytorch_classifier(features.view(features.size(0), -1))\n",
        "                loss = self.loss_fn(outputs, labels)\n",
        "                loss.backward()\n",
        "                self.optimizer.step()\n",
        "\n",
        "    def evaluate(self, test_loader):\n",
        "        self.pytorch_classifier.eval()\n",
        "        with torch.no_grad():\n",
        "            correct = 0\n",
        "            total = 0\n",
        "            for inputs, labels in test_loader:\n",
        "                inputs, labels = inputs.to(self.device), labels.to(self.device)\n",
        "\n",
        "                # Convert inputs to float32 if they are of type ByteTensor\n",
        "                if inputs.dtype == torch.uint8:\n",
        "                    inputs = inputs.float()\n",
        "\n",
        "                with torch.no_grad():\n",
        "                    features = self.fc_removed_resnet(inputs)\n",
        "                outputs = self.pytorch_classifier(features.view(features.size(0), -1))\n",
        "                _, predicted = torch.max(outputs.data, 1)\n",
        "                total += labels.size(0)\n",
        "                correct += (predicted == labels).sum().item()\n",
        "\n",
        "            accuracy = 100 * correct / total\n",
        "            return accuracy\n",
        "\n",
        "\n",
        "    def plot_tsne_with_highlight(self, tsne_data, highlight_indices):\n",
        "        plt.figure(figsize=(8, 6))\n",
        "        sns.scatterplot(x=tsne_data[:, 0], y=tsne_data[:, 1], color='blue', s=50)\n",
        "\n",
        "        highlight_data = tsne_data[highlight_indices]\n",
        "        sns.scatterplot(x=highlight_data[:, 0], y=highlight_data[:, 1], color='red', s=50)\n",
        "\n",
        "        plt.title('Plot with Selected Data Points (Aptos Dataset)')\n",
        "        plt.xlabel('t-SNE Dimension 1')\n",
        "        plt.ylabel('t-SNE Dimension 2')\n",
        "        plt.show()\n",
        "\n",
        "    def run(self, highlighted_indices, train_loader, test_loader, x_train_tsne):\n",
        "\n",
        "        self.pytorch_classifier = self._build_classifier()\n",
        "        self.optimizer = torch.optim.Adam(self.pytorch_classifier.parameters(), lr=self.lr, weight_decay=self.weight_decay)\n",
        "        self.train(train_loader)\n",
        "\n",
        "        test_accuracy = self.evaluate(test_loader)\n",
        "        print(f\"Test Accuracy with Highlighted Indices: {test_accuracy:.2f}%\")\n",
        "        return test_accuracy"
      ],
      "metadata": {
        "papermill": {
          "duration": 0.046621,
          "end_time": "2023-08-05T06:22:12.646743",
          "exception": false,
          "start_time": "2023-08-05T06:22:12.600122",
          "status": "completed"
        },
        "tags": [],
        "execution": {
          "iopub.status.busy": "2023-08-20T11:05:08.393046Z",
          "iopub.execute_input": "2023-08-20T11:05:08.393410Z",
          "iopub.status.idle": "2023-08-20T11:05:08.425608Z",
          "shell.execute_reply.started": "2023-08-20T11:05:08.393379Z",
          "shell.execute_reply": "2023-08-20T11:05:08.424545Z"
        },
        "trusted": true,
        "id": "0OvQsTFr2NM4"
      },
      "execution_count": null,
      "outputs": []
    },
    {
      "cell_type": "code",
      "source": [
        "selected_data_points_x = []\n",
        "for i in range(len(random_points_selector)):\n",
        "\n",
        "    selected_data_points_x.append(random_points_selector[i])\n",
        "    selected_data_points_x.append(selected_points_selector[i])\n",
        "    selected_data_points_x.append(tsne_selected_points_selector[i])"
      ],
      "metadata": {
        "papermill": {
          "duration": 0.029277,
          "end_time": "2023-08-05T06:22:12.696506",
          "exception": false,
          "start_time": "2023-08-05T06:22:12.667229",
          "status": "completed"
        },
        "tags": [],
        "execution": {
          "iopub.status.busy": "2023-08-20T11:05:11.982472Z",
          "iopub.execute_input": "2023-08-20T11:05:11.983171Z",
          "iopub.status.idle": "2023-08-20T11:05:11.988814Z",
          "shell.execute_reply.started": "2023-08-20T11:05:11.983135Z",
          "shell.execute_reply": "2023-08-20T11:05:11.987683Z"
        },
        "trusted": true,
        "id": "Cyd3Vk_D2NM4"
      },
      "execution_count": null,
      "outputs": []
    },
    {
      "cell_type": "code",
      "source": [
        "highlight_trainer = HighlightTSNETrainer(num_epochs=150, batch_size=8, lr=0.001, weight_decay=0.1)\n",
        "points = [\n",
        "    \"1% Random Selected Points\",\n",
        "    \"1% Logdet Selected Points\",\n",
        "    \"1% Tsne+Logdet Selected Points\",\n",
        "    \"5% Random Selected Points\",\n",
        "    \"5% Logdet Selected Points\",\n",
        "    \"5% Tsne+Logdet Selected Points\",\n",
        "    \"10% Random Selected Points\",\n",
        "    \"10% Logdet Selected Points\",\n",
        "    \"10% Tsne+Logdet Selected Points\",\n",
        "    \"15% Random Selected Points\",\n",
        "    \"15% Logdet Selected Points\",\n",
        "    \"15% Tsne+Logdet Selected Points\",\n",
        "    \"20% Random Selected Points\",\n",
        "    \"20% Logdet Selected Points\",\n",
        "    \"20% Tsne+Logdet Selected Points\",\n",
        "    \"25% Random Selected Points\",\n",
        "    \"25% Logdet Selected Points\",\n",
        "    \"25% Tsne+Logdet Selected Points\",\n",
        "    \"30% Random Selected Points\",\n",
        "    \"30% Logdet Selected Points\",\n",
        "    \"30% Tsne+Logdet Selected Points\"\n",
        "]\n",
        "random_points_mean = []\n",
        "random_points_std = []\n",
        "selected_points_mean = []\n",
        "selected_points_std = []\n",
        "tsne_selected_points_mean = []\n",
        "tsne_selected_points_std = []\n",
        "\n",
        "for i in range(len(points)):\n",
        "    print(points[i])\n",
        "    selected_data_points = selected_data_points_x[i]\n",
        "    selected_train_loader = create_train_loader_with_imbalance(selected_data_points, x_train, y_train, batch_size=8)\n",
        "    epochs = 15\n",
        "    acc_list = []\n",
        "    for _ in range(epochs):\n",
        "        acc = highlight_trainer.run(selected_data_points, selected_train_loader, test_loader, x_train_tsne)\n",
        "        acc_list.append(acc)\n",
        "\n",
        "    mean_acc = np.mean(acc_list)\n",
        "    std_acc = np.std(acc_list)\n",
        "    std_err = std_acc/math.sqrt(epochs)\n",
        "    print(f\"Mean Accuracy : {mean_acc}\\nStandard Error : {std_err}\\n\")\n",
        "    highlight_trainer.plot_tsne_with_highlight(x_train_tsne, selected_data_points)\n",
        "\n",
        "    if i % 3 == 0:\n",
        "        random_points_mean.append(mean_acc)\n",
        "        random_points_std.append(std_err)\n",
        "    elif i % 3 == 1:\n",
        "        selected_points_mean.append(mean_acc)\n",
        "        selected_points_std.append(std_err)\n",
        "    else:\n",
        "        tsne_selected_points_mean.append(mean_acc)\n",
        "        tsne_selected_points_std.append(std_err)\n",
        "\n",
        "    print(\"\\n--------------------------------------------------------------------------------------------------\\n\")"
      ],
      "metadata": {
        "papermill": {
          "duration": 12825.015335,
          "end_time": "2023-08-05T09:55:57.732548",
          "exception": false,
          "start_time": "2023-08-05T06:22:12.717213",
          "status": "completed"
        },
        "tags": [],
        "execution": {
          "iopub.status.busy": "2023-08-20T11:06:29.768895Z",
          "iopub.execute_input": "2023-08-20T11:06:29.769304Z",
          "iopub.status.idle": "2023-08-20T15:54:32.639548Z",
          "shell.execute_reply.started": "2023-08-20T11:06:29.769273Z",
          "shell.execute_reply": "2023-08-20T15:54:32.638576Z"
        },
        "trusted": true,
        "id": "EmcKxQ0Z2NM4"
      },
      "execution_count": null,
      "outputs": []
    },
    {
      "cell_type": "code",
      "source": [
        "all_points = list(np.arange(0, x_train_features.shape[0], 1))"
      ],
      "metadata": {
        "papermill": {
          "duration": 0.089833,
          "end_time": "2023-08-05T09:55:57.905954",
          "exception": false,
          "start_time": "2023-08-05T09:55:57.816121",
          "status": "completed"
        },
        "tags": [],
        "execution": {
          "iopub.status.busy": "2023-08-20T16:31:36.183000Z",
          "iopub.execute_input": "2023-08-20T16:31:36.183660Z",
          "iopub.status.idle": "2023-08-20T16:31:36.188438Z",
          "shell.execute_reply.started": "2023-08-20T16:31:36.183612Z",
          "shell.execute_reply": "2023-08-20T16:31:36.187512Z"
        },
        "trusted": true,
        "id": "XukWA0xq2NM5"
      },
      "execution_count": null,
      "outputs": []
    },
    {
      "cell_type": "code",
      "source": [
        "selected_data_points = all_points\n",
        "selected_train_loader = create_train_loader_with_imbalance(selected_data_points, x_train, y_train, batch_size=8)"
      ],
      "metadata": {
        "papermill": {
          "duration": 0.135739,
          "end_time": "2023-08-05T09:55:58.121319",
          "exception": false,
          "start_time": "2023-08-05T09:55:57.985580",
          "status": "completed"
        },
        "tags": [],
        "execution": {
          "iopub.status.busy": "2023-08-20T16:31:36.189961Z",
          "iopub.execute_input": "2023-08-20T16:31:36.190582Z",
          "iopub.status.idle": "2023-08-20T16:31:36.444355Z",
          "shell.execute_reply.started": "2023-08-20T16:31:36.190540Z",
          "shell.execute_reply": "2023-08-20T16:31:36.443323Z"
        },
        "trusted": true,
        "id": "GzUgDzan2NM5"
      },
      "execution_count": null,
      "outputs": []
    },
    {
      "cell_type": "code",
      "source": [
        "skyline_acc_list = []\n",
        "for _ in range(epochs):\n",
        "    acc = highlight_trainer.run(selected_data_points, selected_train_loader, test_loader, x_train_tsne)\n",
        "    skyline_acc_list.append(acc)\n",
        "\n",
        "skyline_mean_acc = np.mean(skyline_acc_list)\n",
        "skyline_std_acc = np.std(skyline_acc_list)\n",
        "skyline_std_err = skyline_std_acc/math.sqrt(epochs)\n",
        "print(f\"Skyline Mean Accuracy : {skyline_mean_acc}\\nStandard Error : {skyline_std_err}\\n\")"
      ],
      "metadata": {
        "papermill": {
          "duration": 834.799283,
          "end_time": "2023-08-05T10:09:53.001358",
          "exception": false,
          "start_time": "2023-08-05T09:55:58.202075",
          "status": "completed"
        },
        "tags": [],
        "execution": {
          "iopub.status.busy": "2023-08-20T16:31:36.445840Z",
          "iopub.execute_input": "2023-08-20T16:31:36.446176Z",
          "iopub.status.idle": "2023-08-20T16:50:06.339221Z",
          "shell.execute_reply.started": "2023-08-20T16:31:36.446143Z",
          "shell.execute_reply": "2023-08-20T16:50:06.338221Z"
        },
        "trusted": true,
        "id": "LVDrJyzk2NM5"
      },
      "execution_count": null,
      "outputs": []
    },
    {
      "cell_type": "code",
      "source": [
        "percentages = [1, 5, 10, 15, 20, 25, 30]\n",
        "\n",
        "plt.figure(figsize=(10, 6))\n",
        "plt.plot(percentages, random_points_mean, marker='o', label='Randomly Selected Points', linestyle='-', linewidth=2, color='tab:blue')\n",
        "plt.fill_between(percentages, np.array(random_points_mean) - np.array(random_points_std), np.array(random_points_mean) + np.array(random_points_std), color='tab:blue', alpha=0.2)\n",
        "\n",
        "plt.plot(percentages, selected_points_mean, marker='o', label='Logdet Selected Points', linestyle='-', linewidth=2, color='tab:orange')\n",
        "plt.fill_between(percentages, np.array(selected_points_mean) - np.array(selected_points_std), np.array(selected_points_mean) + np.array(selected_points_std), color='tab:orange', alpha=0.2)\n",
        "\n",
        "plt.plot(percentages, tsne_selected_points_mean, marker='o', label='t-SNE + LogDet Selected Points', linestyle='-', linewidth=2, color='tab:green')\n",
        "plt.fill_between(percentages, np.array(tsne_selected_points_mean) - np.array(tsne_selected_points_std), np.array(tsne_selected_points_mean) + np.array(tsne_selected_points_std), color='tab:green', alpha=0.2)\n",
        "\n",
        "plt.plot(percentages, [skyline_mean_acc] * len(percentages), color='tab:purple', label='Skyline Accuracy', linestyle='--', linewidth=2)\n",
        "plt.fill_between(percentages, np.array(skyline_mean_acc) - np.array(skyline_std_err), np.array(skyline_mean_acc) + np.array(skyline_std_err), color='tab:purple', alpha=0.2)\n",
        "\n",
        "plt.title('Test Accuracy vs. Percentage of Selected Data Points (Pneumonia MNIST Dataset)')\n",
        "plt.xlabel('Percentage of Selected Data Points')\n",
        "plt.ylabel('Test Accuracy')\n",
        "plt.xticks(percentages)\n",
        "plt.legend(loc='lower right')\n",
        "plt.grid(True)\n",
        "plt.show()"
      ],
      "metadata": {
        "papermill": {
          "duration": 0.494303,
          "end_time": "2023-08-05T10:09:53.576716",
          "exception": false,
          "start_time": "2023-08-05T10:09:53.082413",
          "status": "completed"
        },
        "tags": [],
        "execution": {
          "iopub.status.busy": "2023-08-21T13:19:36.166937Z",
          "iopub.execute_input": "2023-08-21T13:19:36.167317Z",
          "iopub.status.idle": "2023-08-21T13:19:36.656536Z",
          "shell.execute_reply.started": "2023-08-21T13:19:36.167286Z",
          "shell.execute_reply": "2023-08-21T13:19:36.655549Z"
        },
        "trusted": true,
        "id": "UV198Aqk2NM5"
      },
      "execution_count": null,
      "outputs": []
    }
  ]
}